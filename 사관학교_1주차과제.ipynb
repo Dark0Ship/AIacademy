{
  "nbformat": 4,
  "nbformat_minor": 0,
  "metadata": {
    "colab": {
      "name": "Untitled1.ipynb",
      "provenance": [],
      "authorship_tag": "ABX9TyNVSHAyc1cRO2zmoNdF3vo1",
      "include_colab_link": true
    },
    "kernelspec": {
      "name": "python3",
      "display_name": "Python 3"
    }
  },
  "cells": [
    {
      "cell_type": "markdown",
      "metadata": {
        "id": "view-in-github",
        "colab_type": "text"
      },
      "source": [
        "<a href=\"https://colab.research.google.com/github/Dark0Ship/AIacademy/blob/master/%EC%82%AC%EA%B4%80%ED%95%99%EA%B5%90_1%EC%A3%BC%EC%B0%A8%EA%B3%BC%EC%A0%9C.ipynb\" target=\"_parent\"><img src=\"https://colab.research.google.com/assets/colab-badge.svg\" alt=\"Open In Colab\"/></a>"
      ]
    },
    {
      "cell_type": "markdown",
      "metadata": {
        "id": "HBz1qBVp_1-b",
        "colab_type": "text"
      },
      "source": [
        "# 🎶음성"
      ]
    },
    {
      "cell_type": "markdown",
      "metadata": {
        "id": "iX-ph_Nb_2Dy",
        "colab_type": "text"
      },
      "source": [
        " 많은 종류들이 존재하지만 구글에서 '마젠타'을 선보인 적이 있다. \n",
        " '머신러닝' 기술을 사용해서 만들었다.\n",
        "오픈 소스 인 TensorFlow를 기반으로 프로젝트를 진행했으며 GitHub에 공개했다.\n",
        "이를 기반으로 요한 제바스티안 바흐의 탄생일을 맞아서 사용자들이 두 단락의 짧은 멜로디를 입력하면 음악의 키와 템포를 AI가 자동으로 바흐의 음악 데이터를 바탕으로 작곡, 이용자들에게 들려준다. \n",
        "마젠타가 개발한 머신러닝 모델 코코넷을 기반으로 구성하였다.\n",
        "300가지가 넘는 바희의 작품을 분석해 멜로디를 만들어낸다. 바흐의 음악들은 잘게 쪼갠 뒤 파편화해 무작위로 삭제한 후 , 이를 다시 복원하는 연습을 통해 바흐의 스타일에 맞는 음을 추출하는 것을 훈련했다.\n",
        "하지만 구글에서 만든 이 AI또한 완벽하진 않다.\n",
        "단순함과 표현력 사이의 균형을 갖추면서 긴 앙상블을 복제해 내는 것은 어려운 일이기 때문이다."
      ]
    },
    {
      "cell_type": "markdown",
      "metadata": {
        "id": "OKC5MEjBBmTL",
        "colab_type": "text"
      },
      "source": [
        "#  🗣언어"
      ]
    },
    {
      "cell_type": "markdown",
      "metadata": {
        "id": "f6rdhju5BmQa",
        "colab_type": "text"
      },
      "source": [
        "뉴스 기사나 긴 문장을 요약하는 문장 요약 AI. 세줄 요약기가 있다\n",
        "주로 Text Rank 기법을 활용한다.\n",
        "모두 같은건 아니지만 하나의 예시를 보이면 다음과 같은 형태로 진행이 된다.\n",
        "- 전처리 과정\n",
        "  - 문장의 내용을 분리하고 의미없는 문장은 제거, 형태소 분석을 진행한다.\n",
        "- 핵심어 도출 알고리즘\n",
        " - 중요한 2어절 단어 추출\n",
        " - 핵심어 추출\n",
        " - 핵심어의 개수는 토큰 개수를 기준으로 선정\n",
        "- 요약문 도출 알고리즘\n",
        " - 핵심어를 포함한 문장 추출\n",
        " - 핵심어 기준 문장 범위 설정\n",
        " - 중복된 문장 제거\n",
        " - 시간 순서대로 나열\n",
        "\n",
        " 기사의 저작권이나 또는 내용을 왜곡한다는 문제가 제기 되고있다.\n",
        " 다만 네이버나 카카오(다음) 에서는 계속 제공 중이다. \n",
        " 아직 완벽하게 한글을 완벽하게 세줄 요약을 해내는 AI는 없는것으로 알고있다. 한글만큼 분석하기 어려운 언어도 없기 때문이다.\n",
        "\n"
      ]
    },
    {
      "cell_type": "markdown",
      "metadata": {
        "id": "sNUwm5-YBmNr",
        "colab_type": "text"
      },
      "source": [
        "# 🎨이미지"
      ]
    },
    {
      "cell_type": "markdown",
      "metadata": {
        "id": "z8xn3aOxBmJu",
        "colab_type": "text"
      },
      "source": [
        "Google Gloud에 있는 Vision AI\n",
        "Auto Vision을 사용하여 클라우드나 예지 이미지에서 유용한 정보를 얻거나 선행 학습된  Vision  API 모델을 사용하여 이모티콘, 텍스트 등을 감지함.\n",
        "\n",
        "- 기능\n",
        " - API 사용\n",
        " - 그래픽 UI 사용\n",
        " - 사전 정의된 라벨을 사용한 이미지 분류\n",
        " - 커스텀 라벨을 사용한 이미지 분류\n",
        " - Google의 데이터 라벨링 서비스 사용\n",
        " - 에지에 머신러닝 모델 배포\n",
        "\n",
        "- 사용 사례\n",
        " - Vision API 및 AutoML Vision을 사용하여 커스텀 카테고리를 비롯한 광범위한 주제와 장면에 대해 이미지를 검색할 수 있습니다.\n",
        " - Vision 및 Natural Language API를 사용하여 문서를 텍스트로 분류, 추출, 보강하면 정보를 효율적으로 활용할 수 있습니다.\n",
        " - Vision API를 사용하여 이미지 내에서 관심 있는 제품을 찾고 제품 카탈로그를 이미지로 검색할 수 있습니다.\n",
        " - AutoML Vision Edge를 사용하면 결함을 식별하도록 에지 기기를 사용 설정하여 제조 과정의 품질관리(QC) 프로세스를 자동화할 수 있습니다."
      ]
    },
    {
      "cell_type": "markdown",
      "metadata": {
        "id": "f1ZQnp48BmDZ",
        "colab_type": "text"
      },
      "source": [
        "# 🚗자율 주행"
      ]
    },
    {
      "cell_type": "markdown",
      "metadata": {
        "id": "gThC-YtbDXjj",
        "colab_type": "text"
      },
      "source": [
        " - 주변 환경 인식 \n",
        "   - 주행 경로 탐색\n",
        "   - 고정 지물 인식(터널,차로)\n",
        "   - 이동 물체 인식\n",
        "   - 신호등 변동 물체 인식\n",
        "\n",
        "- 판단/주행 전략\n",
        " -  목적지까지 경로계획\n",
        " - 차로 변경, 장애물 화비 등 돌발상황에 대한 판단과 전략수립\n",
        " - 주행속도 및 경로 기록\n",
        "\n",
        "- 차량제어\n",
        " - 핸들조절, 가속, 감속, 급제동 등 차량제어 \n",
        " - 운전자에게 경고 및 정보 제공\n",
        " - 차량간 또는 인프라와의 주행정보 교환\n",
        " \n",
        "\n",
        " 센서들은 크게 라이다(LiDAR), 레이더(RADAR), 스테레오 카메라(Stereo Camera), 초음파센서(Ultrasonic sensor) 등으로 구분되어지고, 측정 범위(각도와 거리)에 따라 장착되는 위치와 역할이 달라진다. 이 센서들은 자율 주행차를 연구하는 제조사에 따라 각각 다양하게 조합되어 장착된다.\n",
        "  \n",
        "  LiDAR는 RADAR(RAdio Detection And Ranging) 시스템의 일종으로 비슷한 원리로 동작한다. RADAR는 전자파(라디오파)를 대상 물체를 향해 발사하고, 물체에 반사되어 되돌아오는 반사파를 측정하여 대상까지의 거리와 형상을 측정하는 장치이다. 보통 멀리있는 물체와의 거리를 측정하는 것이 주목적이며, 항공기의 위치를 알아내거나 심해의 수심을 알아내기 위해 응용되기도 한다. LiDAR은 전자파 대신 빛(레이저 펄스)을 사용한다는 것에 그 차이가 있다.\n",
        "\n",
        "  주로 방사상으로 퍼져나가는 라디오 전파와는 달리 LiDAR는 직진성이 강한 레이저빔을 사용하면서, 탐색 거리는 비교적 가깝지만 매우 짧은 간격의 펄스신호를 통해 보다 높은 밀도로 정확하게 주변 사물을 인식 할 수 있다. 이러한 특성으로 인해 최근 LiDAR는 3D 공간 스캐닝 및 거리측정, 3D 이미지 시스템에 널리 쓰이고 있다. \n",
        "\n",
        "  스테레오 카메라는 사람이 양쪽 눈을 통해 거리를 인식하는 것과 같은 원리로 거리정보를 계산한다. 이 과정에서 카메라 간의 내/외 변수를 추정하는 계산과 두 카메라로부터 들어온 영상 내에서 서로 대응되는 위치를 찾는 스테레오 매칭(Stereo Matching)작업이 수반된다. 이 때문에 이 방식은 모노카메라 방식에 비해 알고리즘이 복잡하고 가격이 올라가는 단점이 있지만, 최근 하드웨어적 성능향상과 가격 하락으로 인해 대중화에 가까워지고 있다. 또한 자율주행차에서 고가의 장비인 LiDAR와 모노카메라의 조합에 대한 대체재로도 각광받고 있다."
      ]
    }
  ]
}